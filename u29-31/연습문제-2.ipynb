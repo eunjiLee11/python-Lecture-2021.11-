{
 "cells": [
  {
   "cell_type": "markdown",
   "metadata": {},
   "source": [
    "# 반복문"
   ]
  },
  {
   "cell_type": "markdown",
   "metadata": {},
   "source": [
    "# Q-1.별 그리기"
   ]
  },
  {
   "cell_type": "markdown",
   "metadata": {},
   "source": [
    "5이상 9이하의 홀수를 입력받아 다이아몬드 형태의 별을 출력하는 프로그램을 작성하시오.\n",
    "예) N=7 "
   ]
  },
  {
   "cell_type": "code",
   "execution_count": 2,
   "metadata": {},
   "outputs": [
    {
     "name": "stdout",
     "output_type": "stream",
     "text": [
      "  *  \n",
      " *** \n",
      "*****\n",
      " *** \n",
      "  *  \n"
     ]
    }
   ],
   "source": [
    "n = int(input())\n",
    "for i in range(n):\n",
    "    if i <= n // 2:\n",
    "        star = '*' * (2*i + 1)\n",
    "    else:\n",
    "        star = '*' * (2*(n-i)-1)\n",
    "    print(f'{star:^{n}s}')"
   ]
  },
  {
   "cell_type": "markdown",
   "metadata": {},
   "source": [
    "# Q-2. 디지털 시계"
   ]
  },
  {
   "cell_type": "markdown",
   "metadata": {},
   "source": [
    "디지털 시계에 하루동안(00:00~23:59) 3이 표시되는 시간을 초로 환산하면 총 몇 초(second) 일까요?\n",
    "- 디지털 시계는 하루동안 다음과 같이 시:분(00:00~23:59)으로 표시됨.\n",
    "00:00 (60초간 표시)\n",
    "00:01 \n",
    "…\n",
    "23:59"
   ]
  },
  {
   "cell_type": "code",
   "execution_count": 3,
   "metadata": {},
   "outputs": [
    {
     "name": "stdout",
     "output_type": "stream",
     "text": [
      "29700\n"
     ]
    }
   ],
   "source": [
    "total_seconds= 0\n",
    "for hour in range(24):\n",
    "    for minute in range(60):\n",
    "        display = f'{hour:02d}:{minute:02d}'\n",
    "        if '3' in display:\n",
    "            total_seconds += 60\n",
    "print(total_seconds)"
   ]
  },
  {
   "cell_type": "markdown",
   "metadata": {},
   "source": [
    "# Q-3. 숫자갯수"
   ]
  },
  {
   "cell_type": "markdown",
   "metadata": {},
   "source": [
    "1~1000에서 각 숫자의 개수를 구하시오.\n",
    "- 예로 10 ~ 15 까지의 각 숫자의 개수를 구해보자.\n",
    "10 = 1, 0\n",
    "11 = 1, 1\n",
    "12 = 1, 2\n",
    "13 = 1, 3\n",
    "14 = 1, 4\n",
    "15 = 1, 5\n",
    "그러므로 이 경우의 답은 0:1개, 1:7개, 2:1개, 3:1개, 4:1개, 5:1개"
   ]
  },
  {
   "cell_type": "code",
   "execution_count": 6,
   "metadata": {},
   "outputs": [
    {
     "data": {
      "text/plain": [
       "{0: 9, 1: 19, 2: 19, 3: 19, 4: 19, 5: 19, 6: 19, 7: 19, 8: 19, 9: 19}"
      ]
     },
     "execution_count": 6,
     "metadata": {},
     "output_type": "execute_result"
    }
   ],
   "source": [
    "# 두자리수(10 ~ 99)\n",
    "number_count = {i:0 for i in range(10)}\n",
    "for n in range(10,100):\n",
    "    ten, one = n//10, n%10\n",
    "    number_count[ten] += 1\n",
    "    number_count[one] += 1\n",
    "number_count"
   ]
  },
  {
   "cell_type": "code",
   "execution_count": 7,
   "metadata": {},
   "outputs": [
    {
     "data": {
      "text/plain": [
       "{0: 192,\n",
       " 1: 301,\n",
       " 2: 300,\n",
       " 3: 300,\n",
       " 4: 300,\n",
       " 5: 300,\n",
       " 6: 300,\n",
       " 7: 300,\n",
       " 8: 300,\n",
       " 9: 300}"
      ]
     },
     "execution_count": 7,
     "metadata": {},
     "output_type": "execute_result"
    }
   ],
   "source": [
    "# 문자로 해결\n",
    "number_count = {i:0 for i in range(10)}\n",
    "number_str = ''\n",
    "for i in range(1,1001):\n",
    "    number_str += str(i)\n",
    "for i in range(10):\n",
    "    number_count[i] = number_str.count(str(i))\n",
    "number_count"
   ]
  },
  {
   "cell_type": "markdown",
   "metadata": {},
   "source": [
    "# Q-4 완전수"
   ]
  },
  {
   "cell_type": "markdown",
   "metadata": {},
   "source": [
    "자기 자신을 제외한 모든 양의 약수들의 합이 자기 자신이 되는 자연수를 완전수라고 한다.\n",
    "예를 들면, 6과 28은 완전수이다.\n",
    "6=1+2+3 # 1,2,3은 각각 6의 약수\n",
    "28=1+2+4+7+14 # 1,2,4,7,14는 각각 28의 약수.\n",
    "입력으로 자연수 N을 받고, 출력으로 N 이하의 모든 완전수를 출력하는 코드를 작성하시오."
   ]
  },
  {
   "cell_type": "code",
   "execution_count": 9,
   "metadata": {},
   "outputs": [
    {
     "name": "stdout",
     "output_type": "stream",
     "text": [
      "6\n"
     ]
    }
   ],
   "source": [
    "N = int(input())\n",
    "for i in range(2, N+1):\n",
    "    sum_of_divisor = 0\n",
    "    for k in range(1,i):\n",
    "        if i % k == 0:\n",
    "            sum_of_divisor += k\n",
    "    if sum_of_divisor == i:\n",
    "        print(sum_of_divisor)"
   ]
  },
  {
   "cell_type": "markdown",
   "metadata": {},
   "source": [
    "완전수이면 true 아니면 false 나타내기(+함수)"
   ]
  },
  {
   "cell_type": "code",
   "execution_count": null,
   "metadata": {},
   "outputs": [],
   "source": [
    "def is_perfect(n):\n",
    "    sum_of_divisor = 0\n",
    "    for i in range(1, n):\n",
    "        if n % i == 0:\n",
    "            sum_of_divisor += i\n",
    "    return sum_of_divisor == n"
   ]
  },
  {
   "cell_type": "code",
   "execution_count": null,
   "metadata": {},
   "outputs": [],
   "source": [
    "N = int(input())\n",
    "for i in range(2, N+1):\n",
    "    if is_perfect(i):\n",
    "        print(i)"
   ]
  },
  {
   "cell_type": "markdown",
   "metadata": {},
   "source": [
    "# Q-5 제곱의 합, 합의 제곱"
   ]
  },
  {
   "cell_type": "markdown",
   "metadata": {},
   "source": [
    "1부터 10까지 자연수를 각각 제곱해 더하면 다음과 같다 (제곱의 합). \n",
    "1\n",
    "2 + 22 + ... + 102 = 385 \n",
    "1부터 10을 먼저 더한 다음에 그 결과를 제곱하면 다음과 같습니다 (합의 제곱).\n",
    "(1 + 2 + ... + 10)2 = 552 = 3025 \n",
    "따라서 1부터 10까지 자연수에 대해 \"합의 제곱\"과 \"제곱의 합\"의 차이는 3025 - 385 = 2640 이\n",
    "된다.\n",
    "입력으로 자연수 N을 받아, 1부터 N까지 자연수에 대해 \"합의 제곱\"과 \"제곱의 합\"의 차이는\n",
    "얼마인가?"
   ]
  },
  {
   "cell_type": "code",
   "execution_count": 10,
   "metadata": {},
   "outputs": [
    {
     "name": "stdout",
     "output_type": "stream",
     "text": [
      "합의 제곱 - 제곱의 합 = 2640\n"
     ]
    }
   ],
   "source": [
    "N = int(input())\n",
    "sum_of_square = 0\n",
    "sum_of_plain = 0\n",
    "for i in range(1, N+1):\n",
    "    sum_of_plain += i\n",
    "    sum_of_square += i*i\n",
    "print(f'합의 제곱 - 제곱의 합 = {sum_of_plain**2 - sum_of_square}')"
   ]
  },
  {
   "cell_type": "code",
   "execution_count": null,
   "metadata": {},
   "outputs": [],
   "source": []
  }
 ],
 "metadata": {
  "interpreter": {
   "hash": "79cc68648ea9c865d47a882c3abb8635bcbaad7034853949390a4dcc3b461fe2"
  },
  "kernelspec": {
   "display_name": "Python 3.8.8 64-bit ('base': conda)",
   "language": "python",
   "name": "python3"
  },
  "language_info": {
   "codemirror_mode": {
    "name": "ipython",
    "version": 3
   },
   "file_extension": ".py",
   "mimetype": "text/x-python",
   "name": "python",
   "nbconvert_exporter": "python",
   "pygments_lexer": "ipython3",
   "version": "3.8.8"
  },
  "orig_nbformat": 4
 },
 "nbformat": 4,
 "nbformat_minor": 2
}
