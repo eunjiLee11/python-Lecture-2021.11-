{
 "cells": [
  {
   "cell_type": "markdown",
   "metadata": {},
   "source": [
    "# 조건문"
   ]
  },
  {
   "cell_type": "markdown",
   "metadata": {},
   "source": [
    "1. 연도를 입력으로 받아 윤년인지 아닌지를 출력하는 프로그램을 작성하시오.\n",
    "윤년은 연도가 4의 배수이면서, 100의 배수가 아닐 때 또는 400의 배수일 때이다.\n",
    "예를들어, 2012년은 4의 배수라서 윤년이지만, 1900년은 4의 배수이지만, 100의 배수이기 때문에 윤년이 아니다. 하지만, 2000년은 400의 배수이기 때문에 윤년이다.)"
   ]
  },
  {
   "cell_type": "code",
   "execution_count": 1,
   "metadata": {},
   "outputs": [
    {
     "name": "stdout",
     "output_type": "stream",
     "text": [
      "2021: 윤년이 아님\n"
     ]
    }
   ],
   "source": [
    "year = int(input())\n",
    "if year % 400 == 0:\n",
    "    print(f'{year}: 윤년')\n",
    "elif year % 100 == 0:\n",
    "    print(f'{year}: 윤년이 아님')\n",
    "elif year % 4 == 0:\n",
    "    (f'{year}: 윤년')\n",
    "else:\n",
    "    print(f'{year}: 윤년이 아님')"
   ]
  },
  {
   "cell_type": "markdown",
   "metadata": {},
   "source": [
    "2. 본인의 생일을 1998 12 15 과 같이 년 월 일로 입력받아\n",
    "오늘 날짜의 만 나이를 구하는 프로그램을 작성하시오."
   ]
  },
  {
   "cell_type": "code",
   "execution_count": 2,
   "metadata": {},
   "outputs": [
    {
     "data": {
      "text/plain": [
       "datetime.date(2021, 11, 22)"
      ]
     },
     "execution_count": 2,
     "metadata": {},
     "output_type": "execute_result"
    }
   ],
   "source": [
    "from datetime import date\n",
    "today = date.today()\n",
    "today"
   ]
  },
  {
   "cell_type": "code",
   "execution_count": 3,
   "metadata": {},
   "outputs": [
    {
     "data": {
      "text/plain": [
       "(2000, 12, 7)"
      ]
     },
     "execution_count": 3,
     "metadata": {},
     "output_type": "execute_result"
    }
   ],
   "source": [
    "year, month, day = map(int, input().split())\n",
    "year, month, day"
   ]
  },
  {
   "cell_type": "code",
   "execution_count": 4,
   "metadata": {},
   "outputs": [
    {
     "name": "stdout",
     "output_type": "stream",
     "text": [
      "생년월일이 2000-12-7인 사람의 만 나이는 20\n"
     ]
    }
   ],
   "source": [
    "if month > today.month:\n",
    "    age = today.year - year -1\n",
    "elif month < today.month:\n",
    "    age = today.year = year\n",
    "else:\n",
    "    if day > today.day:\n",
    "        age = today.year - year -1\n",
    "    else:\n",
    "        age = today.year - year\n",
    "print(f'생년월일이 {year}-{month}-{day}인 사람의 만 나이는 {age}')"
   ]
  },
  {
   "cell_type": "markdown",
   "metadata": {},
   "source": [
    "3. 세 자연수 a, b, c 가 피타고라스 정리 a\n",
    "2 + b2 = c2 를 만족하면 피타고라스 수라고 부른다. \n",
    "(여기서 a < b < c 이고 a + b > c)\n",
    "예를 들면, 32 + 42 = 9 + 16 = 25 = 52 이므로 3, 4, 5는 피타고라스 수입니다.\n",
    "a + b + c = 1000 인 피타고라스 수를 구하시오. (답은 한가지 뿐이다.)"
   ]
  },
  {
   "cell_type": "code",
   "execution_count": 5,
   "metadata": {},
   "outputs": [
    {
     "name": "stdout",
     "output_type": "stream",
     "text": [
      "200 375 425\n"
     ]
    }
   ],
   "source": [
    "for a in range(1,1001):\n",
    "    for b in range(a+1, 1001):\n",
    "        c = 1000 - a - b\n",
    "        if c*c == a*a + b*b:\n",
    "            print(a,b,c)\n",
    "            break"
   ]
  },
  {
   "cell_type": "code",
   "execution_count": 6,
   "metadata": {},
   "outputs": [
    {
     "name": "stdout",
     "output_type": "stream",
     "text": [
      "200 375 425\n"
     ]
    }
   ],
   "source": [
    "# a,b는 1000까지 갈 수 없음\n",
    "\n",
    "flag = False\n",
    "for a in range(1,333):\n",
    "    for b in range(a+1, 500):\n",
    "        c = 1000 - a - b\n",
    "        if c*c == a*a + b*b:\n",
    "            print(a,b,c)\n",
    "            flag = True\n",
    "            break\n",
    "    if flag:\n",
    "        break"
   ]
  },
  {
   "cell_type": "code",
   "execution_count": 3,
   "metadata": {},
   "outputs": [
    {
     "name": "stdout",
     "output_type": "stream",
     "text": [
      "200 375 425\n"
     ]
    }
   ],
   "source": [
    "for a in range(1, 1000):\n",
    "    for b in range(a+1, 1000-a):\n",
    "        c = 1000 - a - b\n",
    "        if (a**2 + b**2) == c**2:\n",
    "            print(a, b, c)"
   ]
  },
  {
   "cell_type": "markdown",
   "metadata": {},
   "source": [
    "# 반복문"
   ]
  },
  {
   "cell_type": "markdown",
   "metadata": {},
   "source": [
    "(별 그리기)\n",
    "5이상 9이하의 홀수를 입력받아 다이아몬드 형태의 별을 출력하는 프로그램을\n",
    "작성하시오.\n",
    "예) N=7 "
   ]
  },
  {
   "cell_type": "code",
   "execution_count": 9,
   "metadata": {},
   "outputs": [
    {
     "name": "stdout",
     "output_type": "stream",
     "text": [
      "*\n"
     ]
    }
   ],
   "source": [
    "N = int(input())\n"
   ]
  },
  {
   "cell_type": "markdown",
   "metadata": {},
   "source": [
    "디지털 시계에 하루동안(00:00~23:59) 3이 표시되는 시간을 초로 환산하면 총 몇 초(second) \n",
    "일까요?\n",
    "- 디지털 시계는 하루동안 다음과 같이 시:분(00:00~23:59)으로 표시됨.\n",
    "00:00 (60초간 표시)\n",
    "00:01 \n",
    "…\n",
    "23:59"
   ]
  },
  {
   "cell_type": "markdown",
   "metadata": {},
   "source": [
    "1~1000에서 각 숫자의 개수를 구하시오.\n",
    "- 예로 10 ~ 15 까지의 각 숫자의 개수를 구해보자.\n",
    "10 = 1, 0\n",
    "11 = 1, 1\n",
    "12 = 1, 2\n",
    "13 = 1, 3\n",
    "14 = 1, 4\n",
    "15 = 1, 5\n",
    "그러므로 이 경우의 답은 0:1개, 1:7개, 2:1개, 3:1개, 4:1개, 5:1개"
   ]
  },
  {
   "cell_type": "markdown",
   "metadata": {},
   "source": [
    "자기 자신을 제외한 모든 양의 약수들의 합이 자기 자신이 되는 자연수를 완전수라고 한다.\n",
    "예를 들면, 6과 28은 완전수이다.\n",
    "6=1+2+3 # 1,2,3은 각각 6의 약수\n",
    "28=1+2+4+7+14 # 1,2,4,7,14는 각각 28의 약수.\n",
    "입력으로 자연수 N을 받고, 출력으로 N 이하의 모든 완전수를 출력하는 코드를 작성하시오."
   ]
  },
  {
   "cell_type": "markdown",
   "metadata": {},
   "source": [
    "1부터 10까지 자연수를 각각 제곱해 더하면 다음과 같다 (제곱의 합). \n",
    "1\n",
    "2 + 22 + ... + 102 = 385 \n",
    "1부터 10을 먼저 더한 다음에 그 결과를 제곱하면 다음과 같습니다 (합의 제곱).\n",
    "(1 + 2 + ... + 10)2 = 552 = 3025 \n",
    "따라서 1부터 10까지 자연수에 대해 \"합의 제곱\"과 \"제곱의 합\"의 차이는 3025 - 385 = 2640 이\n",
    "된다.\n",
    "입력으로 자연수 N을 받아, 1부터 N까지 자연수에 대해 \"합의 제곱\"과 \"제곱의 합\"의 차이는\n",
    "얼마인가?"
   ]
  }
 ],
 "metadata": {
  "interpreter": {
   "hash": "c81169c30fb96244cfba0db287a0d3fd5325268de070a7a6116eecd4596df902"
  },
  "kernelspec": {
   "display_name": "Python 3.8.8 64-bit ('base': conda)",
   "language": "python",
   "name": "python3"
  },
  "language_info": {
   "codemirror_mode": {
    "name": "ipython",
    "version": 3
   },
   "file_extension": ".py",
   "mimetype": "text/x-python",
   "name": "python",
   "nbconvert_exporter": "python",
   "pygments_lexer": "ipython3",
   "version": "3.8.8"
  },
  "orig_nbformat": 4
 },
 "nbformat": 4,
 "nbformat_minor": 2
}
