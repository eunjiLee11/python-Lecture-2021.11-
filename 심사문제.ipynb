{
 "cells": [
  {
   "cell_type": "code",
   "execution_count": null,
   "metadata": {},
   "outputs": [],
   "source": [
    "#심화문제 15\n",
    "\n",
    "age = int(input(' 나이 입력'))\n",
    "balance = 9000    # 교통카드 잔액\n",
    "\n",
    "if 7 <= age <= 12:\n",
    "    balance -= 650\n",
    "elif 13 <= age <= 18:\n",
    "    balance -= 1050\n",
    "elif age <= 19:\n",
    "    balance -= 1250\n",
    "else:\n",
    "    balance = 0    \n",
    "print(f'{age}살의 요금은 {fare:,d}원이고, 잔액은 {balance-fare:,d}원입니다.'"
   ]
  },
  {
   "cell_type": "code",
   "execution_count": null,
   "metadata": {},
   "outputs": [],
   "source": [
    "#심화문제 16\n",
    "\n",
    "num = int(input())\n",
    "for i in range(1,10):\n",
    "    print(f'{num} * {i} = {num * i}')"
   ]
  },
  {
   "cell_type": "code",
   "execution_count": null,
   "metadata": {},
   "outputs": [],
   "source": [
    "# 심화문제 17\n",
    "\n",
    "balance = int(input())\n",
    "fare = 1350\n",
    "\n",
    "while balance - fare >= 0:\n",
    "    balance -= fare\n",
    "    print(balance)"
   ]
  },
  {
   "cell_type": "code",
   "execution_count": null,
   "metadata": {},
   "outputs": [],
   "source": [
    "#심화문제 18\n",
    "\n",
    "start, stop = map(int, input().split())\n",
    "While True:\n",
    "i = start\n",
    "while True:\n",
    "    if i > stop:\n",
    "        break\n",
    "    if i % 10 == 3:\n",
    "        i += 1\n",
    "        continue\n",
    "    print(i, end=' ')\n",
    "    i += 1"
   ]
  },
  {
   "cell_type": "code",
   "execution_count": null,
   "metadata": {},
   "outputs": [],
   "source": [
    "# 심화문제 19\n",
    "\n",
    "1. n = int(input())\n",
    "\n",
    "for i in range(n):\n",
    "    for k in range(n-i-1):\n",
    "            print(' ', end='')\n",
    "    for k in range(2*i+1):\n",
    "            print('*', end='')\n",
    "    print()\n",
    "\n",
    "2. n = int(input())\n",
    "\n",
    "for i in range(n):\n",
    "    print(' '*(n-i-1) + '*'*(2*i+1))"
   ]
  }
 ],
 "metadata": {
  "language_info": {
   "name": "python"
  },
  "orig_nbformat": 4
 },
 "nbformat": 4,
 "nbformat_minor": 2
}
